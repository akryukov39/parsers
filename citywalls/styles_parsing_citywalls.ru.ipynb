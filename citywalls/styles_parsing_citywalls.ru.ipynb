{
 "cells": [
  {
   "cell_type": "code",
   "execution_count": 3,
   "metadata": {
    "ExecuteTime": {
     "end_time": "2021-03-24T16:02:14.896470Z",
     "start_time": "2021-03-24T16:02:14.877476Z"
    }
   },
   "outputs": [],
   "source": [
    "from bs4 import BeautifulSoup\n",
    "import lxml\n",
    "import requests\n",
    "import json\n",
    "import re\n",
    "import os\n",
    "import regex\n",
    "from tqdm import tqdm\n",
    "import pickle\n",
    "import socks\n",
    "import socket"
   ]
  },
  {
   "cell_type": "code",
   "execution_count": 2,
   "metadata": {
    "ExecuteTime": {
     "end_time": "2021-03-17T14:54:29.403405Z",
     "start_time": "2021-03-17T14:54:29.176415Z"
    }
   },
   "outputs": [
    {
     "name": "stdout",
     "output_type": "stream",
     "text": [
      "Current IP Address: 185.17.128.125\n"
     ]
    }
   ],
   "source": [
    "def checkIP():\n",
    "    ip = requests.get('http://checkip.dyndns.org').content\n",
    "    soup = BeautifulSoup(ip, 'html.parser')\n",
    "    print(soup.find('body').text)\n",
    "\n",
    "checkIP()"
   ]
  },
  {
   "cell_type": "code",
   "execution_count": 1,
   "metadata": {
    "ExecuteTime": {
     "end_time": "2021-04-02T07:25:45.150539Z",
     "start_time": "2021-04-02T07:25:41.646272Z"
    }
   },
   "outputs": [
    {
     "data": {
      "text/plain": [
       "'Mozilla/5.0 (Windows NT 6.1; WOW64) AppleWebKit/537.36 (KHTML, like Gecko) Chrome/27.0.1453.93 Safari/537.36'"
      ]
     },
     "execution_count": 1,
     "metadata": {},
     "output_type": "execute_result"
    }
   ],
   "source": [
    "from fake_useragent import UserAgent\n",
    "UserAgent().chrome"
   ]
  },
  {
   "cell_type": "code",
   "execution_count": 5,
   "metadata": {
    "ExecuteTime": {
     "end_time": "2021-03-16T16:10:46.197894Z",
     "start_time": "2021-03-16T16:10:45.681653Z"
    }
   },
   "outputs": [
    {
     "data": {
      "text/plain": [
       "<Response [200]>"
      ]
     },
     "execution_count": 5,
     "metadata": {},
     "output_type": "execute_result"
    }
   ],
   "source": [
    "response = requests.get(\"https://www.citywalls.ru/house1.html\", headers={'User-Agent': UserAgent().chrome})\n",
    "response"
   ]
  },
  {
   "cell_type": "code",
   "execution_count": 9,
   "metadata": {
    "ExecuteTime": {
     "end_time": "2021-03-17T14:55:36.865562Z",
     "start_time": "2021-03-17T14:55:36.310574Z"
    }
   },
   "outputs": [
    {
     "name": "stdout",
     "output_type": "stream",
     "text": [
      "User-Agent: python-requests/2.23.0\n",
      "Accept-Encoding: gzip, deflate\n",
      "Accept: */*\n",
      "Connection: keep-alive\n"
     ]
    }
   ],
   "source": [
    "response = requests.get(\"https://www.citywalls.ru/house1.html\")\n",
    "for key, value in response.request.headers.items():\n",
    "    print(key+\": \"+value)"
   ]
  },
  {
   "cell_type": "code",
   "execution_count": 4,
   "metadata": {
    "ExecuteTime": {
     "end_time": "2021-03-17T14:55:12.677075Z",
     "start_time": "2021-03-17T14:55:12.670078Z"
    }
   },
   "outputs": [],
   "source": [
    "#подключаемся к порту Tor\n",
    "socks.set_default_proxy(socks.SOCKS5, \"localhost\", 9150)\n",
    "socket.socket = socks.socksocket"
   ]
  },
  {
   "cell_type": "code",
   "execution_count": 5,
   "metadata": {
    "ExecuteTime": {
     "end_time": "2021-03-17T14:55:18.490899Z",
     "start_time": "2021-03-17T14:55:17.078046Z"
    }
   },
   "outputs": [
    {
     "name": "stdout",
     "output_type": "stream",
     "text": [
      "Current IP Address: 185.107.70.202\n"
     ]
    }
   ],
   "source": [
    "checkIP()"
   ]
  },
  {
   "cell_type": "code",
   "execution_count": 22,
   "metadata": {
    "ExecuteTime": {
     "end_time": "2021-03-16T18:15:09.975952Z",
     "start_time": "2021-03-16T18:15:09.963950Z"
    }
   },
   "outputs": [],
   "source": [
    "import time"
   ]
  },
  {
   "cell_type": "code",
   "execution_count": 23,
   "metadata": {
    "ExecuteTime": {
     "end_time": "2021-03-16T18:16:08.166573Z",
     "start_time": "2021-03-16T18:15:10.808346Z"
    }
   },
   "outputs": [
    {
     "name": "stdout",
     "output_type": "stream",
     "text": [
      "Current IP Address: 81.6.43.167\n",
      "Current IP Address: 81.6.43.167\n",
      "Current IP Address: 209.141.45.189\n",
      "Current IP Address: 209.141.45.189\n",
      "Current IP Address: 104.244.73.85\n",
      "Current IP Address: 104.244.73.85\n",
      "Current IP Address: 185.191.124.153\n",
      "Current IP Address: 185.191.124.153\n",
      "Current IP Address: 109.70.100.46\n",
      "Current IP Address: 109.70.100.46\n"
     ]
    }
   ],
   "source": [
    "#ip меняется каждые 10 секунд (надо повозится в настройках Tor)\n",
    "for i in range(10):\n",
    "    checkIP()\n",
    "    time.sleep(5)"
   ]
  },
  {
   "cell_type": "code",
   "execution_count": 10,
   "metadata": {
    "ExecuteTime": {
     "end_time": "2021-03-17T14:56:09.290081Z",
     "start_time": "2021-03-17T14:56:09.274949Z"
    }
   },
   "outputs": [],
   "source": [
    "headers = {'User-Agent': 'Mozilla/5.0 (Macintosh; Intel Mac OS X 10_8_3) AppleWebKit/537.36 (KHTML, like Gecko) Chrome/27.0.1453.93 Safari/537.36'}"
   ]
  },
  {
   "cell_type": "code",
   "execution_count": null,
   "metadata": {},
   "outputs": [],
   "source": [
    "#32113 страниц со зданиями - скачаем их\n",
    "for x in tqdm(range(32113)):\n",
    "    response = requests.get(f\"https://www.citywalls.ru/house{x}.html\", headers=headers)\n",
    "    if response.status_code == 200:\n",
    "        page = unescape(response.text)\n",
    "        page = normalize('NFKD', response.text)\n",
    "        with open(f'citywalls/house{x}.html', 'w', encoding='1251', errors=\"ignore\") as f:\n",
    "            f.write(page)"
   ]
  },
  {
   "cell_type": "markdown",
   "metadata": {},
   "source": [
    "1) берём содержимое div.address\n",
    "2) делаем сплит по <br>\n",
    "3) убираем html код (остаются только ссылки"
   ]
  },
  {
   "cell_type": "code",
   "execution_count": null,
   "metadata": {},
   "outputs": [],
   "source": [
    "path = 'citywalls'\n",
    "correct_styles = []\n",
    "for i, file in tqdm(zip(range(33000), os.listdir(path=path))):\n",
    "    if os.path.exists(f'{path}/{file}'):\n",
    "        with open(f'{path}/{file}') as f:\n",
    "            html = f.read()\n",
    "            soup = BeautifulSoup(html, features='html.parser')\n",
    "            if soup.find('div', class_='cssHouseHead'):\n",
    "                if soup.find('<br/>'):\n",
    "                    full_address = str(soup.find('div', class_ ='address')).split('<br/>')\n",
    "                    split_adress = [re.sub('<[^>]*>', '', address) for address in full_address]\n",
    "                metainfo = ('\\n'.join([tag.text for tag in soup.find_all('div', {'class': 'cssHouseHead'})])).split('\\n\\n\\n')\n",
    "                if len(metainfo[-2]) < 10:\n",
    "                    correct_styles.append({'Здание': metainfo[0].strip('\\n'), 'Адрес': split_adress, \n",
    "                                            'Стиль': 'нет информации', 'Ссылка': f'https://www.citywalls.ru/{file}'})\n",
    "                else:\n",
    "                    correct_styles.append({'Здание': metainfo[0].strip('\\n'), 'Адрес': split_adress, \n",
    "                'Стиль': metainfo[-2].strip('\\n').split('\\n')[1], 'Ссылка': f'https://www.citywalls.ru/{file}'})"
   ]
  },
  {
   "cell_type": "code",
   "execution_count": 7,
   "metadata": {
    "ExecuteTime": {
     "end_time": "2021-04-02T07:41:23.183130Z",
     "start_time": "2021-04-02T07:41:23.160585Z"
    }
   },
   "outputs": [
    {
     "data": {
      "text/plain": [
       "[{'Здание': 'Училище правоведения',\n",
       "  'Адрес': ['Чайковского ул., 1',\n",
       "   'Фонтанки наб., 6',\n",
       "   'Оружейника Федорова ул., 2'],\n",
       "  'Стиль': 'Классицизм',\n",
       "  'Ссылка': 'https://www.citywalls.ru/house1.html'},\n",
       " {'Здание': 'Дома Олсуфьевых (левая часть)',\n",
       "  'Адрес': ['Фонтанки наб., 14'],\n",
       "  'Стиль': 'Необарокко',\n",
       "  'Ссылка': 'https://www.citywalls.ru/house10.html'},\n",
       " {'Здание': 'Евангелическо- лютеранская церковь св. Екатерины',\n",
       "  'Адрес': ['Большой пр. ВО, 1'],\n",
       "  'Стиль': 'Классицизм',\n",
       "  'Ссылка': 'https://www.citywalls.ru/house100.html'},\n",
       " {'Здание': 'Училище св. Елены. Еленинское училище - Женскии институт св. ЕленыШкола No 77 (по ул. Блохина)',\n",
       "  'Адрес': ['Блохина ул., 31', 'Зверинская ул., 3'],\n",
       "  'Стиль': 'Эклектика',\n",
       "  'Ссылка': 'https://www.citywalls.ru/house1000.html'},\n",
       " {'Здание': 'Детская музыкальная школа No 26 - Охтинскии центр эстетического воспитания',\n",
       "  'Адрес': ['Маршала Тухачевского ул., 8'],\n",
       "  'Стиль': 'Современныи',\n",
       "  'Ссылка': 'https://www.citywalls.ru/house10000.html'},\n",
       " {'Здание': 'Булочно-кондитерскии комбинат - Хлебозавод \"Охтинское\" и магазин',\n",
       "  'Адрес': ['Пискаревскии пр., 29', 'Маршала Тухачевского ул., 24'],\n",
       "  'Стиль': 'Современныи',\n",
       "  'Ссылка': 'https://www.citywalls.ru/house10001.html'},\n",
       " {'Здание': 'Госфильмофонд - Фильмофонд СПБГУП \"Петербург-Кино\" - Кинотеатр \"Фильмофонд\"',\n",
       "  'Адрес': ['Пискаревскии пр., 32'],\n",
       "  'Стиль': 'Сталинскии неоклассицизм',\n",
       "  'Ссылка': 'https://www.citywalls.ru/house10002.html'},\n",
       " {'Здание': 'Подворье Красностокского Рождествено-Богородицкого женского монастыря Гродненскои епархии и часовня иконы Б.М. Неопалимая Купина',\n",
       "  'Адрес': ['Пискаревскии пр., 28А'],\n",
       "  'Стиль': 'нет информации',\n",
       "  'Ссылка': 'https://www.citywalls.ru/house10003.html'},\n",
       " {'Здание': 'Дача Безбородко . Пруды - Полюстровские пруды',\n",
       "  'Адрес': ['Пискаревскии пр., 8х', 'Полюстровскии пр., 12х'],\n",
       "  'Стиль': 'нет информации',\n",
       "  'Ссылка': 'https://www.citywalls.ru/house10004.html'},\n",
       " {'Здание': 'Сад \"Нева\"',\n",
       "  'Адрес': ['Пискаревскии пр., 7х',\n",
       "   'Полюстровскии пр., 2х',\n",
       "   'Революции шоссе, 2х'],\n",
       "  'Стиль': 'нет информации',\n",
       "  'Ссылка': 'https://www.citywalls.ru/house10005.html'}]"
      ]
     },
     "execution_count": 7,
     "metadata": {},
     "output_type": "execute_result"
    }
   ],
   "source": [
    "correct_styles[:10]"
   ]
  },
  {
   "cell_type": "code",
   "execution_count": 89,
   "metadata": {
    "ExecuteTime": {
     "end_time": "2021-03-24T21:57:09.360569Z",
     "start_time": "2021-03-24T21:57:09.041881Z"
    }
   },
   "outputs": [],
   "source": [
    "import json\n",
    "with open('citwalls_styles_with_links.json', 'w', encoding='utf-8') as f:\n",
    "    json.dump(correct_styles, f, ensure_ascii=False, indent=4)"
   ]
  }
 ],
 "metadata": {
  "kernelspec": {
   "display_name": "Python 3",
   "language": "python",
   "name": "python3"
  },
  "language_info": {
   "codemirror_mode": {
    "name": "ipython",
    "version": 3
   },
   "file_extension": ".py",
   "mimetype": "text/x-python",
   "name": "python",
   "nbconvert_exporter": "python",
   "pygments_lexer": "ipython3",
   "version": "3.7.9"
  },
  "toc": {
   "base_numbering": 1,
   "nav_menu": {},
   "number_sections": true,
   "sideBar": true,
   "skip_h1_title": false,
   "title_cell": "Table of Contents",
   "title_sidebar": "Contents",
   "toc_cell": false,
   "toc_position": {},
   "toc_section_display": true,
   "toc_window_display": false
  }
 },
 "nbformat": 4,
 "nbformat_minor": 4
}
